{
 "cells": [
  {
   "cell_type": "markdown",
   "id": "ab737641-4783-4e3b-87c0-4b97b959b367",
   "metadata": {},
   "source": [
    "## Advanced String Manipulation with Regular Expressions"
   ]
  },
  {
   "cell_type": "markdown",
   "id": "e3598421-0843-47b6-902a-1d004df7ab55",
   "metadata": {},
   "source": [
    "We have author contributions for several PNAS Journals. Howver, these author contributions are not in machine-readable format. An example of the data is like this: `<p>Author contributions: V.G. and A.P. designed research; V.G., C.F., M.C., V.L.B., M.M., and F.D.N. performed research; E.C., F.R., and L.F. contributed new reagents/analytic tools; A.M., S.S., and G.M. analyzed data; and A.P. wrote the paper.</p>`\n",
    "\n",
    "How can we extract unique author contribution groups for each of the journals? We want to break down the data into unique groups such as `designed research`, `performed research` etc."
   ]
  },
  {
   "cell_type": "markdown",
   "id": "7f59faf1-73d9-4e20-ba30-9b4ddc1814c3",
   "metadata": {},
   "source": [
    "#### Reading our Data"
   ]
  },
  {
   "cell_type": "code",
   "execution_count": 1,
   "id": "666fba02-51a3-4760-848a-101e3546beb4",
   "metadata": {},
   "outputs": [],
   "source": [
    "import pandas as pd\n",
    "import numpy as np\n",
    "import regex as re"
   ]
  },
  {
   "cell_type": "code",
   "execution_count": 2,
   "id": "e3726901-ec53-461f-975e-645d71a86a74",
   "metadata": {},
   "outputs": [],
   "source": [
    "df = pd.read_csv('meta.csv')"
   ]
  },
  {
   "cell_type": "code",
   "execution_count": 3,
   "id": "7086f637-e27b-4746-870f-f8f91523a82f",
   "metadata": {},
   "outputs": [
    {
     "data": {
      "text/html": [
       "<div>\n",
       "<style scoped>\n",
       "    .dataframe tbody tr th:only-of-type {\n",
       "        vertical-align: middle;\n",
       "    }\n",
       "\n",
       "    .dataframe tbody tr th {\n",
       "        vertical-align: top;\n",
       "    }\n",
       "\n",
       "    .dataframe thead th {\n",
       "        text-align: right;\n",
       "    }\n",
       "</style>\n",
       "<table border=\"1\" class=\"dataframe\">\n",
       "  <thead>\n",
       "    <tr style=\"text-align: right;\">\n",
       "      <th></th>\n",
       "      <th>VOL</th>\n",
       "      <th>ISS</th>\n",
       "      <th>DOI</th>\n",
       "      <th>Author contributions</th>\n",
       "    </tr>\n",
       "  </thead>\n",
       "  <tbody>\n",
       "    <tr>\n",
       "      <th>0</th>\n",
       "      <td>119</td>\n",
       "      <td>10</td>\n",
       "      <td>10.1073/pnas.2104718119</td>\n",
       "      <td>&lt;p&gt;Author contributions: V.G. and A.P. designe...</td>\n",
       "    </tr>\n",
       "    <tr>\n",
       "      <th>1</th>\n",
       "      <td>119</td>\n",
       "      <td>10</td>\n",
       "      <td>10.1073/pnas.2105416119</td>\n",
       "      <td>&lt;p&gt;Author contributions: N.M. and M.v.d.P. des...</td>\n",
       "    </tr>\n",
       "    <tr>\n",
       "      <th>2</th>\n",
       "      <td>119</td>\n",
       "      <td>10</td>\n",
       "      <td>10.1073/pnas.2107357119</td>\n",
       "      <td>&lt;p&gt;Author contributions: X.F., H.W., and J.G. ...</td>\n",
       "    </tr>\n",
       "    <tr>\n",
       "      <th>3</th>\n",
       "      <td>119</td>\n",
       "      <td>10</td>\n",
       "      <td>10.1073/pnas.2107453119</td>\n",
       "      <td>&lt;p&gt;Author contributions: L.W. and W.Y. designe...</td>\n",
       "    </tr>\n",
       "    <tr>\n",
       "      <th>4</th>\n",
       "      <td>119</td>\n",
       "      <td>10</td>\n",
       "      <td>10.1073/pnas.2107720119</td>\n",
       "      <td>&lt;p&gt;Author contributions: Y.V.W. and R.R.S. des...</td>\n",
       "    </tr>\n",
       "  </tbody>\n",
       "</table>\n",
       "</div>"
      ],
      "text/plain": [
       "   VOL ISS                      DOI  \\\n",
       "0  119  10  10.1073/pnas.2104718119   \n",
       "1  119  10  10.1073/pnas.2105416119   \n",
       "2  119  10  10.1073/pnas.2107357119   \n",
       "3  119  10  10.1073/pnas.2107453119   \n",
       "4  119  10  10.1073/pnas.2107720119   \n",
       "\n",
       "                                Author contributions  \n",
       "0  <p>Author contributions: V.G. and A.P. designe...  \n",
       "1  <p>Author contributions: N.M. and M.v.d.P. des...  \n",
       "2  <p>Author contributions: X.F., H.W., and J.G. ...  \n",
       "3  <p>Author contributions: L.W. and W.Y. designe...  \n",
       "4  <p>Author contributions: Y.V.W. and R.R.S. des...  "
      ]
     },
     "execution_count": 3,
     "metadata": {},
     "output_type": "execute_result"
    }
   ],
   "source": [
    "df.head()"
   ]
  },
  {
   "cell_type": "markdown",
   "id": "b5a0e7d5-6a46-4669-87c1-6cf4b3dc6cc9",
   "metadata": {},
   "source": [
    "#### Understanding our data"
   ]
  },
  {
   "cell_type": "markdown",
   "id": "f2aa5c31-8815-4a93-9371-d9fb381b7175",
   "metadata": {},
   "source": [
    "To know the formatting options to use, you have to thoroughly understand your data. The series of code you'll see are the results after several iterations of code and writing to csv files to see how clean our results are. You have to be able to identify patterns in the text that you can then manipulate with regex. Different people will approach the problem in different ways. You should work iteratively, applying solutions step by step. Note that depending on the data, it might be impossible to get 100% clean data. You might have to extract to csv and still make corrections manually.\n",
    "\n",
    "This is my approach to extracting the information that I need. Feel free to download this notebook and explore ways to get better results."
   ]
  },
  {
   "cell_type": "markdown",
   "id": "644b9476-cb99-49c3-8413-b13856e93652",
   "metadata": {},
   "source": [
    "#### Conditions for formatting our data\n",
    "\n",
    "- All rows starting from \"Contributed by\" does not contain the information we need. \n",
    "- All rows start with \\<p> and end with \\<\\p>.\n",
    "- All text starting with these variants contain the information we need: \"Author Contribution\", \"Author Contributions\",\"Authors Contributions\", and \"Author's Contributions\"\n",
    "- If text does not start with the variants above, it will start with author names, or it does not contain the information we need.\n",
    "- Author names are of different formats: `A.B., A. Borden, A.v.d.B., A.{special characters, numbers}B., A.-B.`\n",
    "- Author contributions always start with small letters. Any sentence starting with capital letter that is not Author Contributions or an initial does not contain the information we need.\n",
    "- Majority of author contributions are separated by `;` e.g. (designed research; performed research), while some are separated by , e.g. (designed research, performed research)\n",
    "- Majority of the last author contribution in a string is preceded by `, and` e.g. designed research, and performed research."
   ]
  },
  {
   "cell_type": "markdown",
   "id": "6451a7c5-4274-4156-9e9f-42a72dd50311",
   "metadata": {},
   "source": [
    "#### String Formatting and Regex"
   ]
  },
  {
   "cell_type": "markdown",
   "id": "3f946aea-f4b6-49fc-be20-6a2970060bf6",
   "metadata": {},
   "source": [
    "We start by taking out extraneous information.\n",
    "\n",
    "First, we delete the \\<p>, \\<\\p>, and author contributions variants that are start and end majority of the rows."
   ]
  },
  {
   "cell_type": "code",
   "execution_count": 4,
   "id": "54a0707c-d8ef-493f-b69b-5ad6a22ccfe2",
   "metadata": {},
   "outputs": [],
   "source": [
    "#version13 = df[~df['Author contributions'].str.contains('Contributed by')]"
   ]
  },
  {
   "cell_type": "code",
   "execution_count": 5,
   "id": "f462244d-1f44-4ce9-9a96-2cf51aff9aa3",
   "metadata": {},
   "outputs": [],
   "source": [
    "version14 = df['Author contributions'].str.replace('<p>Author contributions: ','')"
   ]
  },
  {
   "cell_type": "code",
   "execution_count": 6,
   "id": "9506676b-90ad-470f-9dbc-fe7457bafb5e",
   "metadata": {},
   "outputs": [],
   "source": [
    "version14 = version14.str.replace('<p>Author contribution: ','')"
   ]
  },
  {
   "cell_type": "code",
   "execution_count": 7,
   "id": "72845d5a-a15e-4e0d-8dd5-63c82c6c4b28",
   "metadata": {},
   "outputs": [],
   "source": [
    "version14 = version14.str.replace('<p>Authors contributions: ','')"
   ]
  },
  {
   "cell_type": "code",
   "execution_count": 8,
   "id": "d3040156-16de-4ac8-be97-184b322d0915",
   "metadata": {},
   "outputs": [],
   "source": [
    "version14 = version14.str.replace('<p>Author\"s contributions: ','')"
   ]
  },
  {
   "cell_type": "code",
   "execution_count": 9,
   "id": "45d8a4d0-88ab-4590-9b96-a22ebe6f7b4c",
   "metadata": {},
   "outputs": [
    {
     "data": {
      "text/plain": [
       "1400     Z.R., H.L., P.M.G., M.D., A.S.K., A.T.F., M.L....\n",
       "46655    K.C.N., G.C., D.B., and V.C. designed research...\n",
       "14996                          M.L.S. wrote the paper.</p>\n",
       "19968    A.I., M.R.-S., and R.W. designed research, per...\n",
       "7968     B.A.R. and C.C. designed research, performed r...\n",
       "Name: Author contributions, dtype: object"
      ]
     },
     "execution_count": 9,
     "metadata": {},
     "output_type": "execute_result"
    }
   ],
   "source": [
    "version14.sample(5)"
   ]
  },
  {
   "cell_type": "code",
   "execution_count": 10,
   "id": "5846484e-7b07-4893-9e00-55a0f2b1c777",
   "metadata": {},
   "outputs": [],
   "source": [
    "version14 = version14.str.replace('<p>','')"
   ]
  },
  {
   "cell_type": "code",
   "execution_count": 11,
   "id": "3a3647cc-925c-4f98-8217-89b31694c364",
   "metadata": {},
   "outputs": [],
   "source": [
    "version14 = version14.str.replace('</p>','')"
   ]
  },
  {
   "cell_type": "markdown",
   "id": "4d587c88-dcb9-411f-8777-fce7a079ade5",
   "metadata": {},
   "source": [
    "Then, we filter out the rows that have the information that we want.\n",
    "\n",
    "We do this by using regex match to filter for rows that start with initials i.e. a capital letter and period."
   ]
  },
  {
   "cell_type": "code",
   "execution_count": 12,
   "id": "2eadc3f2-bf51-49a8-9e48-4887956a2e34",
   "metadata": {},
   "outputs": [],
   "source": [
    "#version15 = version14.apply(lambda x: re.search('^[A-Z]\\.',str(x)))\n",
    "version15 = version14[version14.str.match('^[A-Z]\\.')]"
   ]
  },
  {
   "cell_type": "code",
   "execution_count": 13,
   "id": "436b76fd-1abd-46e9-8277-15811391084b",
   "metadata": {},
   "outputs": [
    {
     "data": {
      "text/plain": [
       "0    V.G. and A.P. designed research; V.G., C.F., M...\n",
       "1    N.M. and M.v.d.P. designed research; N.M., H.P...\n",
       "2    X.F., H.W., and J.G. designed research; X.F., ...\n",
       "3    L.W. and W.Y. designed research; Y.C., D.G., Z...\n",
       "4    Y.V.W. and R.R.S. designed research; Y.V.W. an...\n",
       "Name: Author contributions, dtype: object"
      ]
     },
     "execution_count": 13,
     "metadata": {},
     "output_type": "execute_result"
    }
   ],
   "source": [
    "version15.head()"
   ]
  },
  {
   "cell_type": "markdown",
   "id": "cec0e226-1fb2-4b70-8ac3-5cda8adb6480",
   "metadata": {},
   "source": [
    "Now we can use different regex techniques to clean the rows and extract the information we want. The sample string below shows what each of the functions that we apply to the dataframe does. The string includes all of the different variations that we noticed in the data. You can see how it iteratively cleans the string and extracts the information we need. We then apply these same functions to our dataframe."
   ]
  },
  {
   "cell_type": "code",
   "execution_count": 14,
   "id": "3c5e7f92-b4fa-4794-ba8e-e581da154a19",
   "metadata": {},
   "outputs": [
    {
     "name": "stdout",
     "output_type": "stream",
     "text": [
      "Y.W., J. Cembrano, C.M.-S., A.R.W., M.&#x00D8;., Ã–. designed research, Å½.S. performed research; A.J.O. and J.D. developed the coating; R. Herbig contributed new reagents/analytic tools, and A.A.H. wrote the paper.\n",
      ";  ; ; ; ;;  designed research;  performed research;  and  developed the coating;   contributed new reagents tools; and  wrote the paper\n",
      ";  ; ; ; ;;  designed research;  performed research;  ;  developed the coating;   contributed new reagents tools; ;  wrote the paper\n",
      "designed research;performed research;developed the coating;contributed new reagents tools;wrote the paper\n"
     ]
    }
   ],
   "source": [
    "#sample string\n",
    "t = 'Y.W., J. Cembrano, C.M.-S., A.R.W., M.&#x00D8;., Ã–. designed research, Å½.S. performed research; A.J.O. and J.D. developed the coating; R. Herbig contributed new reagents/analytic tools, and a.a.H. wrote the paper.'\n",
    "\n",
    "#converts all lowercase intials (e.g. v.d.) to uppercase (V.D.).\n",
    "#the negative lookahead (?!$) ensures that ending of strings are not affected.\n",
    "callback = lambda pat: pat.group(1).upper()+'.'\n",
    "a = re.sub('([a-z])\\.(?!$)', callback, t)\n",
    "\n",
    "#converts all , to ;\n",
    "#ensures that we have a single separator ;\n",
    "c = re.sub(',',';',a)\n",
    "\n",
    "#deletes all author names\n",
    "#deletes intials like A.B. and A. Borden\n",
    "f = re.sub('[A-Z]\\.|[A-Z]\\w*','',c)\n",
    "\n",
    "#deletes all text that is not alphabetic, ;, space or /\n",
    "#we leave the ; because it is our separator\n",
    "#we leave the space because deleting it can cause complications (test to see)\n",
    "m = re.sub('[^a-zA-Z;\\s]\\w*','',f)\n",
    "\n",
    "#we delete and because it precedes many author contributions e.g. designed research, and performed research\n",
    "#this could cause confusion in the contributions\n",
    "#e.g. analyzed and wrote the report becomes: analyzed wrote the report\n",
    "d = re.sub('and',';',m) #change from `and ` to `; and`.\n",
    "\n",
    "#we delete any leading/extraneous space that could have occured due to the deletions\n",
    "n = d.lstrip()\n",
    "r = re.sub('\\\\s+',' ',n)\n",
    "#we delete recurring ; and ensure we have just one ; separating each contribution\n",
    "#we also delete all . at the end of each row\n",
    "q = re.sub('(;\\s)+',';',r)\n",
    "v = re.sub('\\.$','',q)\n",
    "y = re.sub('^;*','',v)\n",
    "\n",
    "#you can look at each output and try to make the code more efficient i.e. reduce the number of lines\n",
    "\n",
    "print(a)\n",
    "#print(c)\n",
    "#print(f)\n",
    "print(m)\n",
    "print(d)\n",
    "#print(n)\n",
    "#print(r)\n",
    "#print(q)\n",
    "#print(v)\n",
    "print(y)"
   ]
  },
  {
   "cell_type": "code",
   "execution_count": 15,
   "id": "06ae8471-f0cc-4b43-a2e4-2454d6003ab7",
   "metadata": {},
   "outputs": [],
   "source": [
    "callback = lambda pat: pat.group(1).upper()+'.'\n",
    "version17 = version15.apply(lambda x: re.sub('([a-z])\\.(?!$)', callback,str(x)))\n",
    "version17 = version17.apply(lambda x: re.sub(',',';',str(x)))\n",
    "version17 = version17.apply(lambda x: re.sub('[A-Z]\\.|[A-Z]\\w*','',str(x)))\n",
    "version17 = version17.apply(lambda x: re.sub('[^a-zA-Z;\\s]\\w*','',str(x)))\n",
    "version17 = version17.apply(lambda x: re.sub('and',';',str(x)))\n",
    "version17 = version17.str.lstrip()\n",
    "version17 = version17.apply(lambda x: re.sub('\\\\s+',' ',str(x)))\n",
    "version17 = version17.apply(lambda x: re.sub('(;\\s)+',';',str(x)))\n",
    "version17 = version17.apply(lambda x: re.sub('\\.$','',str(x)))\n",
    "version17 = version17.apply(lambda x: re.sub('^;*','',str(x)))"
   ]
  },
  {
   "cell_type": "code",
   "execution_count": 16,
   "id": "74fffc0e-d6d8-4fb2-9464-065660e62ea0",
   "metadata": {},
   "outputs": [
    {
     "data": {
      "text/plain": [
       "5676     designed research;performed research;analyzed ...\n",
       "36210    designed research;performed research;contribut...\n",
       "29711    designed research;performed research;contribut...\n",
       "39306    designed research;performed research;contribut...\n",
       "30635    designed research;performed research;analyzed ...\n",
       "Name: Author contributions, dtype: object"
      ]
     },
     "execution_count": 16,
     "metadata": {},
     "output_type": "execute_result"
    }
   ],
   "source": [
    "version17.sample(5)"
   ]
  },
  {
   "cell_type": "markdown",
   "id": "1ae53ae9-1c2f-461c-ad05-767e6f7030e4",
   "metadata": {},
   "source": [
    "#### Extract our cleaned data"
   ]
  },
  {
   "cell_type": "markdown",
   "id": "aa746a0f-8e15-4aaf-b769-f46b5bfc97bd",
   "metadata": {},
   "source": [
    "Primarily, we want to extract unique author contritions. But we also want to match doi to author contributions for future project variations.\n",
    "\n",
    "So let us include our results into a dataframe."
   ]
  },
  {
   "cell_type": "code",
   "execution_count": 17,
   "id": "3a9eee97-376e-4d91-af14-e0ba227a6713",
   "metadata": {},
   "outputs": [],
   "source": [
    "df2 = df.copy()"
   ]
  },
  {
   "cell_type": "code",
   "execution_count": 18,
   "id": "d04d9ad9-456d-4ed5-9381-41552cc5c36e",
   "metadata": {},
   "outputs": [],
   "source": [
    "df2['revision_one'] = version17"
   ]
  },
  {
   "cell_type": "code",
   "execution_count": 19,
   "id": "76c857dc-c75e-40e7-a7c1-5fbb3866de26",
   "metadata": {},
   "outputs": [],
   "source": [
    "df3 = df2[df2['revision_one'].notna()]"
   ]
  },
  {
   "cell_type": "code",
   "execution_count": 20,
   "id": "3ad64bdd-fbe5-4cab-8d4d-34a5320abe5d",
   "metadata": {},
   "outputs": [
    {
     "data": {
      "text/html": [
       "<div>\n",
       "<style scoped>\n",
       "    .dataframe tbody tr th:only-of-type {\n",
       "        vertical-align: middle;\n",
       "    }\n",
       "\n",
       "    .dataframe tbody tr th {\n",
       "        vertical-align: top;\n",
       "    }\n",
       "\n",
       "    .dataframe thead th {\n",
       "        text-align: right;\n",
       "    }\n",
       "</style>\n",
       "<table border=\"1\" class=\"dataframe\">\n",
       "  <thead>\n",
       "    <tr style=\"text-align: right;\">\n",
       "      <th></th>\n",
       "      <th>VOL</th>\n",
       "      <th>ISS</th>\n",
       "      <th>DOI</th>\n",
       "      <th>Author contributions</th>\n",
       "      <th>revision_one</th>\n",
       "    </tr>\n",
       "  </thead>\n",
       "  <tbody>\n",
       "    <tr>\n",
       "      <th>23423</th>\n",
       "      <td>113</td>\n",
       "      <td>48</td>\n",
       "      <td>10.1073/pnas.1616889113</td>\n",
       "      <td>&lt;p&gt;Author contributions: R.F., P.K.L., and A.Z...</td>\n",
       "      <td>designed research;performed research;fabricate...</td>\n",
       "    </tr>\n",
       "    <tr>\n",
       "      <th>41958</th>\n",
       "      <td>108</td>\n",
       "      <td>45</td>\n",
       "      <td>10.1073/pnas.1115348108</td>\n",
       "      <td>&lt;p&gt;Author contributions: Y.B., L.Y., and X.Z. ...</td>\n",
       "      <td>designed research;performed research;contribut...</td>\n",
       "    </tr>\n",
       "    <tr>\n",
       "      <th>19733</th>\n",
       "      <td>114</td>\n",
       "      <td>48</td>\n",
       "      <td>10.1073/pnas.1706597114</td>\n",
       "      <td>&lt;p&gt;Author contributions: K.A.A. designed resea...</td>\n",
       "      <td>designed research;performed research;analyzed ...</td>\n",
       "    </tr>\n",
       "    <tr>\n",
       "      <th>39920</th>\n",
       "      <td>108</td>\n",
       "      <td>13</td>\n",
       "      <td>10.1073/pnas.1007811108</td>\n",
       "      <td>&lt;p&gt;Author contributions: M.R., M. Armaka, M.M....</td>\n",
       "      <td>designed research;performed research;analyzed ...</td>\n",
       "    </tr>\n",
       "    <tr>\n",
       "      <th>29255</th>\n",
       "      <td>111</td>\n",
       "      <td>27</td>\n",
       "      <td>10.1073/pnas.1313071111</td>\n",
       "      <td>&lt;p&gt;Author contributions: K.R.G. and M.T.Y. des...</td>\n",
       "      <td>designed research;performed research;wrote the...</td>\n",
       "    </tr>\n",
       "  </tbody>\n",
       "</table>\n",
       "</div>"
      ],
      "text/plain": [
       "       VOL ISS                      DOI  \\\n",
       "23423  113  48  10.1073/pnas.1616889113   \n",
       "41958  108  45  10.1073/pnas.1115348108   \n",
       "19733  114  48  10.1073/pnas.1706597114   \n",
       "39920  108  13  10.1073/pnas.1007811108   \n",
       "29255  111  27  10.1073/pnas.1313071111   \n",
       "\n",
       "                                    Author contributions  \\\n",
       "23423  <p>Author contributions: R.F., P.K.L., and A.Z...   \n",
       "41958  <p>Author contributions: Y.B., L.Y., and X.Z. ...   \n",
       "19733  <p>Author contributions: K.A.A. designed resea...   \n",
       "39920  <p>Author contributions: M.R., M. Armaka, M.M....   \n",
       "29255  <p>Author contributions: K.R.G. and M.T.Y. des...   \n",
       "\n",
       "                                            revision_one  \n",
       "23423  designed research;performed research;fabricate...  \n",
       "41958  designed research;performed research;contribut...  \n",
       "19733  designed research;performed research;analyzed ...  \n",
       "39920  designed research;performed research;analyzed ...  \n",
       "29255  designed research;performed research;wrote the...  "
      ]
     },
     "execution_count": 20,
     "metadata": {},
     "output_type": "execute_result"
    }
   ],
   "source": [
    "df3.sample(5)"
   ]
  },
  {
   "cell_type": "markdown",
   "id": "19bfc03e-f3cd-4305-b000-268b2067adbf",
   "metadata": {},
   "source": [
    "We are going to split the revision two column so that we can see each of the author contributions."
   ]
  },
  {
   "cell_type": "code",
   "execution_count": 21,
   "id": "b3dcadec-a7e6-41ca-8a2f-e6903b71c481",
   "metadata": {},
   "outputs": [],
   "source": [
    "sub_df = df3['revision_one'].str.split(';',expand=True)"
   ]
  },
  {
   "cell_type": "code",
   "execution_count": 22,
   "id": "4f3d16fc-892f-4338-848c-9d490294ed8a",
   "metadata": {},
   "outputs": [
    {
     "data": {
      "text/html": [
       "<div>\n",
       "<style scoped>\n",
       "    .dataframe tbody tr th:only-of-type {\n",
       "        vertical-align: middle;\n",
       "    }\n",
       "\n",
       "    .dataframe tbody tr th {\n",
       "        vertical-align: top;\n",
       "    }\n",
       "\n",
       "    .dataframe thead th {\n",
       "        text-align: right;\n",
       "    }\n",
       "</style>\n",
       "<table border=\"1\" class=\"dataframe\">\n",
       "  <thead>\n",
       "    <tr style=\"text-align: right;\">\n",
       "      <th></th>\n",
       "      <th>0</th>\n",
       "      <th>1</th>\n",
       "      <th>2</th>\n",
       "      <th>3</th>\n",
       "      <th>4</th>\n",
       "      <th>5</th>\n",
       "      <th>6</th>\n",
       "      <th>7</th>\n",
       "      <th>8</th>\n",
       "      <th>9</th>\n",
       "      <th>...</th>\n",
       "      <th>47</th>\n",
       "      <th>48</th>\n",
       "      <th>49</th>\n",
       "      <th>50</th>\n",
       "      <th>51</th>\n",
       "      <th>52</th>\n",
       "      <th>53</th>\n",
       "      <th>54</th>\n",
       "      <th>55</th>\n",
       "      <th>56</th>\n",
       "    </tr>\n",
       "  </thead>\n",
       "  <tbody>\n",
       "    <tr>\n",
       "      <th>0</th>\n",
       "      <td>designed research</td>\n",
       "      <td>performed research</td>\n",
       "      <td>contributed new reagents tools</td>\n",
       "      <td>analyzed data</td>\n",
       "      <td>wrote the paper</td>\n",
       "      <td>None</td>\n",
       "      <td>None</td>\n",
       "      <td>None</td>\n",
       "      <td>None</td>\n",
       "      <td>None</td>\n",
       "      <td>...</td>\n",
       "      <td>None</td>\n",
       "      <td>None</td>\n",
       "      <td>None</td>\n",
       "      <td>None</td>\n",
       "      <td>None</td>\n",
       "      <td>None</td>\n",
       "      <td>None</td>\n",
       "      <td>None</td>\n",
       "      <td>None</td>\n",
       "      <td>None</td>\n",
       "    </tr>\n",
       "    <tr>\n",
       "      <th>1</th>\n",
       "      <td>designed research</td>\n",
       "      <td>performed research</td>\n",
       "      <td>analyzed data</td>\n",
       "      <td>wrote the paper</td>\n",
       "      <td>contributed to design of analyses</td>\n",
       "      <td>contributed data</td>\n",
       "      <td>None</td>\n",
       "      <td>None</td>\n",
       "      <td>None</td>\n",
       "      <td>None</td>\n",
       "      <td>...</td>\n",
       "      <td>None</td>\n",
       "      <td>None</td>\n",
       "      <td>None</td>\n",
       "      <td>None</td>\n",
       "      <td>None</td>\n",
       "      <td>None</td>\n",
       "      <td>None</td>\n",
       "      <td>None</td>\n",
       "      <td>None</td>\n",
       "      <td>None</td>\n",
       "    </tr>\n",
       "    <tr>\n",
       "      <th>2</th>\n",
       "      <td>designed research</td>\n",
       "      <td>performed research</td>\n",
       "      <td>analyzed data</td>\n",
       "      <td>wrote the paper</td>\n",
       "      <td>None</td>\n",
       "      <td>None</td>\n",
       "      <td>None</td>\n",
       "      <td>None</td>\n",
       "      <td>None</td>\n",
       "      <td>None</td>\n",
       "      <td>...</td>\n",
       "      <td>None</td>\n",
       "      <td>None</td>\n",
       "      <td>None</td>\n",
       "      <td>None</td>\n",
       "      <td>None</td>\n",
       "      <td>None</td>\n",
       "      <td>None</td>\n",
       "      <td>None</td>\n",
       "      <td>None</td>\n",
       "      <td>None</td>\n",
       "    </tr>\n",
       "    <tr>\n",
       "      <th>3</th>\n",
       "      <td>designed research</td>\n",
       "      <td>performed research</td>\n",
       "      <td>contributed new reagents tools</td>\n",
       "      <td>analyzed data</td>\n",
       "      <td>wrote the paper</td>\n",
       "      <td>None</td>\n",
       "      <td>None</td>\n",
       "      <td>None</td>\n",
       "      <td>None</td>\n",
       "      <td>None</td>\n",
       "      <td>...</td>\n",
       "      <td>None</td>\n",
       "      <td>None</td>\n",
       "      <td>None</td>\n",
       "      <td>None</td>\n",
       "      <td>None</td>\n",
       "      <td>None</td>\n",
       "      <td>None</td>\n",
       "      <td>None</td>\n",
       "      <td>None</td>\n",
       "      <td>None</td>\n",
       "    </tr>\n",
       "    <tr>\n",
       "      <th>4</th>\n",
       "      <td>designed research</td>\n",
       "      <td>performed research</td>\n",
       "      <td>contributed new reagents tools</td>\n",
       "      <td>analyzed data</td>\n",
       "      <td>provided the age model</td>\n",
       "      <td>provided laboratory infrastructure</td>\n",
       "      <td>support</td>\n",
       "      <td>collected the sediment core</td>\n",
       "      <td>extracted the model data</td>\n",
       "      <td>ran the climate model</td>\n",
       "      <td>...</td>\n",
       "      <td>None</td>\n",
       "      <td>None</td>\n",
       "      <td>None</td>\n",
       "      <td>None</td>\n",
       "      <td>None</td>\n",
       "      <td>None</td>\n",
       "      <td>None</td>\n",
       "      <td>None</td>\n",
       "      <td>None</td>\n",
       "      <td>None</td>\n",
       "    </tr>\n",
       "  </tbody>\n",
       "</table>\n",
       "<p>5 rows × 57 columns</p>\n",
       "</div>"
      ],
      "text/plain": [
       "                  0                   1                               2   \\\n",
       "0  designed research  performed research  contributed new reagents tools   \n",
       "1  designed research  performed research                   analyzed data   \n",
       "2  designed research  performed research                   analyzed data   \n",
       "3  designed research  performed research  contributed new reagents tools   \n",
       "4  designed research  performed research  contributed new reagents tools   \n",
       "\n",
       "                3                                  4   \\\n",
       "0    analyzed data                    wrote the paper   \n",
       "1  wrote the paper  contributed to design of analyses   \n",
       "2  wrote the paper                               None   \n",
       "3    analyzed data                    wrote the paper   \n",
       "4    analyzed data             provided the age model   \n",
       "\n",
       "                                    5        6                            7   \\\n",
       "0                                 None     None                         None   \n",
       "1                     contributed data     None                         None   \n",
       "2                                 None     None                         None   \n",
       "3                                 None     None                         None   \n",
       "4  provided laboratory infrastructure   support  collected the sediment core   \n",
       "\n",
       "                         8                      9   ...    47    48    49  \\\n",
       "0                      None                   None  ...  None  None  None   \n",
       "1                      None                   None  ...  None  None  None   \n",
       "2                      None                   None  ...  None  None  None   \n",
       "3                      None                   None  ...  None  None  None   \n",
       "4  extracted the model data  ran the climate model  ...  None  None  None   \n",
       "\n",
       "     50    51    52    53    54    55    56  \n",
       "0  None  None  None  None  None  None  None  \n",
       "1  None  None  None  None  None  None  None  \n",
       "2  None  None  None  None  None  None  None  \n",
       "3  None  None  None  None  None  None  None  \n",
       "4  None  None  None  None  None  None  None  \n",
       "\n",
       "[5 rows x 57 columns]"
      ]
     },
     "execution_count": 22,
     "metadata": {},
     "output_type": "execute_result"
    }
   ],
   "source": [
    "sub_df.head()"
   ]
  },
  {
   "cell_type": "markdown",
   "id": "f5a0d1e5-91db-4007-8c11-219235bdff24",
   "metadata": {},
   "source": [
    "We can now extract unique contributions. The technique is to convert to a dataframe and save as csv.\n",
    "We have to use .ravel function to flatten the array into 1D."
   ]
  },
  {
   "cell_type": "code",
   "execution_count": 23,
   "id": "7cbc6aa4-ae0d-46ce-81d3-e1dbf2e4b47e",
   "metadata": {},
   "outputs": [],
   "source": [
    "unique = pd.DataFrame(pd.unique(sub_df.values.ravel()))\n",
    "unique= unique.sort_values(0)"
   ]
  },
  {
   "cell_type": "code",
   "execution_count": 24,
   "id": "8d374ca0-a87e-4c20-af0f-2ca6e71bc294",
   "metadata": {},
   "outputs": [
    {
     "data": {
      "text/html": [
       "<div>\n",
       "<style scoped>\n",
       "    .dataframe tbody tr th:only-of-type {\n",
       "        vertical-align: middle;\n",
       "    }\n",
       "\n",
       "    .dataframe tbody tr th {\n",
       "        vertical-align: top;\n",
       "    }\n",
       "\n",
       "    .dataframe thead th {\n",
       "        text-align: right;\n",
       "    }\n",
       "</style>\n",
       "<table border=\"1\" class=\"dataframe\">\n",
       "  <thead>\n",
       "    <tr style=\"text-align: right;\">\n",
       "      <th></th>\n",
       "      <th>0</th>\n",
       "    </tr>\n",
       "  </thead>\n",
       "  <tbody>\n",
       "    <tr>\n",
       "      <th>106</th>\n",
       "      <td></td>\n",
       "    </tr>\n",
       "    <tr>\n",
       "      <th>4115</th>\n",
       "      <td>a stratigraphic framework</td>\n",
       "    </tr>\n",
       "    <tr>\n",
       "      <th>5793</th>\n",
       "      <td>a tool for classifying free affiliations</td>\n",
       "    </tr>\n",
       "    <tr>\n",
       "      <th>6066</th>\n",
       "      <td>absolute quantification assay</td>\n",
       "    </tr>\n",
       "    <tr>\n",
       "      <th>941</th>\n",
       "      <td>abundance analysis shown in toggle</td>\n",
       "    </tr>\n",
       "  </tbody>\n",
       "</table>\n",
       "</div>"
      ],
      "text/plain": [
       "                                             0\n",
       "106                                           \n",
       "4115                 a stratigraphic framework\n",
       "5793  a tool for classifying free affiliations\n",
       "6066            absolute quantification assay \n",
       "941        abundance analysis shown in toggle "
      ]
     },
     "execution_count": 24,
     "metadata": {},
     "output_type": "execute_result"
    }
   ],
   "source": [
    "unique.head()"
   ]
  },
  {
   "cell_type": "code",
   "execution_count": 25,
   "id": "5531ad99-bc34-4362-b32b-28858a182fab",
   "metadata": {},
   "outputs": [
    {
     "data": {
      "text/html": [
       "<div>\n",
       "<style scoped>\n",
       "    .dataframe tbody tr th:only-of-type {\n",
       "        vertical-align: middle;\n",
       "    }\n",
       "\n",
       "    .dataframe tbody tr th {\n",
       "        vertical-align: top;\n",
       "    }\n",
       "\n",
       "    .dataframe thead th {\n",
       "        text-align: right;\n",
       "    }\n",
       "</style>\n",
       "<table border=\"1\" class=\"dataframe\">\n",
       "  <thead>\n",
       "    <tr style=\"text-align: right;\">\n",
       "      <th></th>\n",
       "      <th>0</th>\n",
       "    </tr>\n",
       "  </thead>\n",
       "  <tbody>\n",
       "    <tr>\n",
       "      <th>2814</th>\n",
       "      <td>data visualization</td>\n",
       "    </tr>\n",
       "    <tr>\n",
       "      <th>4390</th>\n",
       "      <td>immunostaining</td>\n",
       "    </tr>\n",
       "    <tr>\n",
       "      <th>4654</th>\n",
       "      <td>assays</td>\n",
       "    </tr>\n",
       "    <tr>\n",
       "      <th>2284</th>\n",
       "      <td>collected the patient samples</td>\n",
       "    </tr>\n",
       "    <tr>\n",
       "      <th>5382</th>\n",
       "      <td>developed image reconstruction</td>\n",
       "    </tr>\n",
       "    <tr>\n",
       "      <th>7390</th>\n",
       "      <td>ophthalmic eye examinations in dog</td>\n",
       "    </tr>\n",
       "    <tr>\n",
       "      <th>5643</th>\n",
       "      <td>coordinated cross researchers</td>\n",
       "    </tr>\n",
       "    <tr>\n",
       "      <th>7844</th>\n",
       "      <td>supported the statistical analysis</td>\n",
       "    </tr>\n",
       "    <tr>\n",
       "      <th>5370</th>\n",
       "      <td>implemented temporal models for the f</td>\n",
       "    </tr>\n",
       "    <tr>\n",
       "      <th>126</th>\n",
       "      <td>developed the device</td>\n",
       "    </tr>\n",
       "  </tbody>\n",
       "</table>\n",
       "</div>"
      ],
      "text/plain": [
       "                                           0\n",
       "2814                      data visualization\n",
       "4390                          immunostaining\n",
       "4654                                  assays\n",
       "2284           collected the patient samples\n",
       "5382          developed image reconstruction\n",
       "7390     ophthalmic eye examinations in dog \n",
       "5643           coordinated cross researchers\n",
       "7844      supported the statistical analysis\n",
       "5370  implemented temporal models for the f \n",
       "126                     developed the device"
      ]
     },
     "execution_count": 25,
     "metadata": {},
     "output_type": "execute_result"
    }
   ],
   "source": [
    "unique.sample(10)"
   ]
  },
  {
   "cell_type": "code",
   "execution_count": 26,
   "id": "63279232-a88e-4230-b754-41c71cc5ef3d",
   "metadata": {},
   "outputs": [
    {
     "data": {
      "text/plain": [
       "(8551, 1)"
      ]
     },
     "execution_count": 26,
     "metadata": {},
     "output_type": "execute_result"
    }
   ],
   "source": [
    "unique.shape"
   ]
  },
  {
   "cell_type": "code",
   "execution_count": 27,
   "id": "f9aa7a71-52ff-4bd4-8751-b74c2ab28be9",
   "metadata": {},
   "outputs": [],
   "source": [
    "unique.to_csv('extract.csv')"
   ]
  },
  {
   "cell_type": "markdown",
   "id": "735b652b-3318-4b3e-913c-c713e94fe36d",
   "metadata": {},
   "source": [
    "#### Contact Me!\n",
    "Thank you for reading this! Let me know if you have any suggestions I can use to make my code better!"
   ]
  },
  {
   "cell_type": "markdown",
   "id": "cf8ca5ef-d95f-4934-aa42-f8b86cc7ab0c",
   "metadata": {},
   "source": [
    "#### Next Steps\n",
    "\n",
    "We have 8k+ unique contributions. We are going to group them into 5 contribution groups, and we're going to attempt to count how many authors worked on each group per journal."
   ]
  }
 ],
 "metadata": {
  "kernelspec": {
   "display_name": "Python 3 (ipykernel)",
   "language": "python",
   "name": "python3"
  },
  "language_info": {
   "codemirror_mode": {
    "name": "ipython",
    "version": 3
   },
   "file_extension": ".py",
   "mimetype": "text/x-python",
   "name": "python",
   "nbconvert_exporter": "python",
   "pygments_lexer": "ipython3",
   "version": "3.10.1"
  }
 },
 "nbformat": 4,
 "nbformat_minor": 5
}
